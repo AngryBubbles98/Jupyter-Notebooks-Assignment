{
 "cells": [
  {
   "cell_type": "markdown",
   "id": "780ff1ed-72d7-498d-bcc5-4a10e5c70a23",
   "metadata": {},
   "source": [
    "# Data Science Tools and Ecosystem"
   ]
  },
  {
   "cell_type": "markdown",
   "id": "be2eb559-29cd-4473-90f3-98981c3c1c7a",
   "metadata": {},
   "source": [
    " In this notebook, Data Science Tools and Ecosystem are summarized."
   ]
  },
  {
   "cell_type": "markdown",
   "id": "ea2ef9d6-a7bd-482a-9324-8219614e690f",
   "metadata": {
    "tags": []
   },
   "source": [
    "**Objectives:**\n",
    "- Demonstrate the use of markdown cells with multiple formats\n",
    "- Display the use of code cells and how they can be integrated within a Jupyter Notebook\n",
    "- List popular languages, libraries, and tools that are used among Data Scienties"
   ]
  },
  {
   "cell_type": "markdown",
   "id": "69b1f90c-7561-4e9a-a5c5-ed7568695503",
   "metadata": {},
   "source": [
    "Some of the popular languages that Data Scientists use are:\n",
    "1. SQL\n",
    "2. Python\n",
    "3. R Studio"
   ]
  },
  {
   "cell_type": "markdown",
   "id": "4f81a833-e472-44bd-879a-768051713751",
   "metadata": {
    "tags": []
   },
   "source": [
    "Some of the commonly used libraries used by Data Scientists include:\n",
    "\n",
    "1. Pandas\n",
    "2. Matplotlib\n",
    "3. NumPy"
   ]
  },
  {
   "cell_type": "markdown",
   "id": "0be70726-c780-459f-969a-935608dc6d52",
   "metadata": {
    "tags": []
   },
   "source": [
    "| Data Science Tools |\n",
    "| ------------------ |\n",
    "| MySQL |\n",
    "| PostgreSQL |\n",
    "| Apache CouchDB |"
   ]
  },
  {
   "cell_type": "markdown",
   "id": "198d725d-8d36-435a-924f-293083bec4af",
   "metadata": {
    "tags": []
   },
   "source": [
    "### Below are a few examples of evaluating arithmetic expressions in Python"
   ]
  },
  {
   "cell_type": "code",
   "execution_count": 13,
   "id": "aa2d6aaa-85dd-4c49-a89b-dc0094958567",
   "metadata": {
    "tags": []
   },
   "outputs": [
    {
     "data": {
      "text/plain": [
       "17"
      ]
     },
     "execution_count": 13,
     "metadata": {},
     "output_type": "execute_result"
    }
   ],
   "source": [
    "# This is a simple arithmetic expression to multiply and add integers\n",
    "(3*4)+5"
   ]
  },
  {
   "cell_type": "code",
   "execution_count": 14,
   "id": "c5191b36-048d-40fa-917b-05c3bdc3a46c",
   "metadata": {
    "tags": []
   },
   "outputs": [
    {
     "data": {
      "text/plain": [
       "3.3333333333333335"
      ]
     },
     "execution_count": 14,
     "metadata": {},
     "output_type": "execute_result"
    }
   ],
   "source": [
    "# This will convert 200 minutes to hours by dividing by 60\n",
    "hour = 60;\n",
    "200/hour"
   ]
  },
  {
   "cell_type": "markdown",
   "id": "f303c3a3-9060-469e-9c44-e219fb881edd",
   "metadata": {
    "tags": []
   },
   "source": [
    "## Author\n",
    "Ivan Shikhelman"
   ]
  }
 ],
 "metadata": {
  "kernelspec": {
   "display_name": "Python",
   "language": "python",
   "name": "conda-env-python-py"
  },
  "language_info": {
   "codemirror_mode": {
    "name": "ipython",
    "version": 3
   },
   "file_extension": ".py",
   "mimetype": "text/x-python",
   "name": "python",
   "nbconvert_exporter": "python",
   "pygments_lexer": "ipython3",
   "version": "3.7.12"
  }
 },
 "nbformat": 4,
 "nbformat_minor": 5
}
